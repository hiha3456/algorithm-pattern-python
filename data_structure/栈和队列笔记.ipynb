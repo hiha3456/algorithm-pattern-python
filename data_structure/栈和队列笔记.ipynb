{
 "cells": [
  {
   "cell_type": "markdown",
   "metadata": {},
   "source": [
    "# 栈和队列\n",
    "\n",
    "## 简介\n",
    "\n",
    "栈的特点是后入先出\n",
    "\n",
    "![image.png](https://img.fuiboom.com/img/stack.png)\n",
    "\n",
    "根据这个特点可以临时保存一些数据，之后用到依次再弹出来，常用于 DFS 深度搜索\n",
    "\n",
    "队列一般常用于 BFS 广度搜索，类似一层一层的搜索\n"
   ]
  },
  {
   "cell_type": "markdown",
   "metadata": {},
   "source": [
    "\n",
    "## Stack 栈\n",
    "\n",
    "### [min-stack](https://leetcode-cn.com/problems/min-stack/)"
   ]
  },
  {
   "cell_type": "markdown",
   "metadata": {},
   "source": [
    "> 设计一个支持 push，pop，top 操作，并能在常数时间内检索到最小元素的栈。"
   ]
  },
  {
   "cell_type": "markdown",
   "metadata": {},
   "source": [
    "思路1：辅助栈"
   ]
  },
  {
   "cell_type": "code",
   "execution_count": null,
   "metadata": {},
   "outputs": [],
   "source": [
    "\n",
    "class MinStack:\n",
    "    def __init__(self):\n",
    "        self.stack = []\n",
    "        self.min_stack = [math.inf]\n",
    "\n",
    "    def push(self, x: int) -> None:\n",
    "        self.stack.append(x)\n",
    "        self.min_stack.append(min(x, self.min_stack[-1]))\n",
    "\n",
    "    def pop(self) -> None:\n",
    "        self.stack.pop()\n",
    "        self.min_stack.pop()\n",
    "\n",
    "    def top(self) -> int:\n",
    "        return self.stack[-1]\n",
    "\n",
    "    def getMin(self) -> int:\n",
    "        return self.min_stack[-1]"
   ]
  },
  {
   "cell_type": "code",
   "execution_count": null,
   "metadata": {},
   "outputs": [],
   "source": [
    "思路2：用插入元组实现，保证当前最小值在栈顶即可"
   ]
  },
  {
   "cell_type": "code",
   "execution_count": null,
   "metadata": {},
   "outputs": [],
   "source": [
    "class MinStack:\n",
    "\n",
    "    def __init__(self):\n",
    "        self.stack = []\n",
    "\n",
    "    def push(self, x: int) -> None:\n",
    "        if len(self.stack) > 0:\n",
    "            self.stack.append((x, min(x, self.stack[-1][1])))\n",
    "        else:\n",
    "            self.stack.append((x, x))\n",
    "\n",
    "    def pop(self) -> int:\n",
    "        return self.stack.pop()[0]\n",
    "\n",
    "    def top(self) -> int:\n",
    "        return self.stack[-1][0]\n",
    "\n",
    "    def getMin(self) -> int:\n",
    "        return self.stack[-1][1]"
   ]
  },
  {
   "cell_type": "markdown",
   "metadata": {},
   "source": [
    "### [evaluate-reverse-polish-notation](https://leetcode-cn.com/problems/evaluate-reverse-polish-notation/)\n",
    "\n",
    "> **波兰表达式计算** > **输入:** [\"2\", \"1\", \"+\", \"3\", \"*\"] > **输出:** 9\n",
    "> **解释:** ((2 + 1) \\* 3) = 9"
   ]
  },
  {
   "cell_type": "markdown",
   "metadata": {},
   "source": [
    "- 思路：通过栈保存原来的元素，遇到表达式弹出运算，再推入结果，重复这个过程"
   ]
  },
  {
   "cell_type": "code",
   "execution_count": null,
   "metadata": {},
   "outputs": [],
   "source": [
    "class Solution:\n",
    "    def evalRPN(self, tokens: List[str]) -> int:\n",
    "        \n",
    "        def comp(or1, op, or2):\n",
    "            if op == '+':\n",
    "                return or1 + or2\n",
    "            \n",
    "            if op == '-':\n",
    "                return or1 - or2\n",
    "            \n",
    "            if op == '*':\n",
    "                return or1 * or2\n",
    "            \n",
    "            if op == '/':\n",
    "                #abs_result = abs(or1) // abs(or2)\n",
    "                #return abs_result if or1 * or2 > 0 else -abs_result\n",
    "                return int(a / b) #注意此处，由于python整除是向下取整，所以改用除法，然后用整形去掉小数\n",
    "                #（int负数是向上，正数时向下取整）\n",
    "        stack = []\n",
    "        \n",
    "        for token in tokens:\n",
    "            if token in ['+', '-', '*', '/']:\n",
    "                or2 = stack.pop()\n",
    "                or1 = stack.pop()\n",
    "                stack.append(comp(or1, token, or2))\n",
    "            else:\n",
    "                stack.append(int(token))\n",
    "        \n",
    "        return stack[0]"
   ]
  },
  {
   "cell_type": "markdown",
   "metadata": {},
   "source": [
    "### [decode-string](https://leetcode-cn.com/problems/decode-string/)\n",
    "\n",
    "> 给定一个经过编码的字符串，返回它解码后的字符串。\n",
    "> s = \"3[a]2[bc]\", 返回 \"aaabcbc\".\n",
    "> s = \"3[a2[c]]\", 返回 \"accaccacc\".\n",
    "> s = \"2[abc]3[cd]ef\", 返回 \"abcabccdcdcdef\"."
   ]
  },
  {
   "cell_type": "code",
   "execution_count": null,
   "metadata": {},
   "outputs": [],
   "source": [
    "- 思路：通过两个栈进行操作，一个用于存数，另一个用来存字符串"
   ]
  },
  {
   "cell_type": "code",
   "execution_count": null,
   "metadata": {},
   "outputs": [],
   "source": [
    "class Solution:\n",
    "    def decodeString(self, s: str) -> str:\n",
    "        \n",
    "        stack_str = ['']\n",
    "        stack_num = []\n",
    "        \n",
    "        num = 0\n",
    "        for c in s:\n",
    "            if c >= '0' and c <= '9':\n",
    "                num = num * 10 + int(c)\n",
    "            elif c == '[':\n",
    "                stack_num.append(num)\n",
    "                stack_str.append('')\n",
    "                num = 0\n",
    "            elif c == ']':\n",
    "                cur_str = stack_str.pop()\n",
    "                stack_str[-1] += cur_str * stack_num.pop()#最新的更新，因为可能出现嵌套\n",
    "            else:\n",
    "                stack_str[-1] += c\n",
    "        \n",
    "        return stack_str[0]"
   ]
  }
 ],
 "metadata": {
  "kernelspec": {
   "display_name": "Python 3",
   "language": "python",
   "name": "python3"
  },
  "language_info": {
   "codemirror_mode": {
    "name": "ipython",
    "version": 3
   },
   "file_extension": ".py",
   "mimetype": "text/x-python",
   "name": "python",
   "nbconvert_exporter": "python",
   "pygments_lexer": "ipython3",
   "version": "3.7.0"
  }
 },
 "nbformat": 4,
 "nbformat_minor": 4
}
