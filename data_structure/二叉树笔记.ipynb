{
 "cells": [
  {
   "cell_type": "markdown",
   "metadata": {},
   "source": [
    "# 二叉树\n",
    "\n",
    "## 知识点\n",
    "\n",
    "### 二叉树遍历\n",
    "\n",
    "**前序遍历**：**先访问根节点**，再前序遍历左子树，再前序遍历右子树,中左右\n",
    "\n",
    "**中序遍历**：先中序遍历左子树，**再访问根节点**，再中序遍历右子树,左中右\n",
    "\n",
    "**后序遍历**：先后序遍历左子树，再后序遍历右子树，**再访问根节点**,左右中"
   ]
  },
  {
   "cell_type": "code",
   "execution_count": 1,
   "metadata": {},
   "outputs": [
    {
     "data": {
      "text/plain": [
       "[[0, 0], [0, 0], [0, 0]]"
      ]
     },
     "execution_count": 1,
     "metadata": {},
     "output_type": "execute_result"
    }
   ],
   "source": [
    "[[0]*2]*3"
   ]
  },
  {
   "cell_type": "code",
   "execution_count": 10,
   "metadata": {},
   "outputs": [],
   "source": [
    "from typing import List"
   ]
  },
  {
   "cell_type": "code",
   "execution_count": 7,
   "metadata": {},
   "outputs": [],
   "source": [
    "# Definition for a binary tree node.\n",
    "class TreeNode:\n",
    "    def __init__(self, x):\n",
    "        self.val = x\n",
    "        self.left = None\n",
    "        self.right = None\n"
   ]
  },
  {
   "cell_type": "markdown",
   "metadata": {},
   "source": [
    "# 总结：前中后序递归\n",
    "## （由下至上）分冶法（最简单），和正经的递归(从上至下)（有两个函数，且要规定if(node.left)），ans = []\n",
    "\n",
    "# 前中后序迭代\n",
    "## while(len(s)>0)\n",
    "## 前后序差不多（要规定if(node.left...), 前面有s=[root]）前序+val,入栈右左，后序+val入栈左右\n",
    "## 后序如果是正规的“遍历”应当使用带visited的方法（太麻烦先不记）\n",
    "## 中序while加一个or node is not None, 先到左下角然后一个个pop出来，node=node right"
   ]
  },
  {
   "cell_type": "markdown",
   "metadata": {},
   "source": [
    "# 递归\n",
    "## 时间复杂度：O(n)，n为节点数，访问每个节点恰好一次。\n",
    "## 空间复杂度：空间复杂度：O(h)，h为树的高度。最坏情况下需要空间O(n)，平均情况为O(logn)"
   ]
  },
  {
   "cell_type": "code",
   "execution_count": null,
   "metadata": {},
   "outputs": [],
   "source": [
    "class Solution:\n",
    "    #前序递归print\n",
    "    def preorderTraversal(self, root: TreeNode) -> List[int]:\n",
    "        if root is None:\n",
    "            return\n",
    "        print(root.val)\n",
    "        self.preorderTraversal(root.left)\n",
    "        self.preorderTraversal(root.right)"
   ]
  },
  {
   "cell_type": "markdown",
   "metadata": {},
   "source": [
    "### 注：递归法可以将ans放入参数或solution的全局变量，使其不需要第二个函数, 有第二个函数，第二个不需要return"
   ]
  },
  {
   "cell_type": "code",
   "execution_count": 13,
   "metadata": {},
   "outputs": [],
   "source": [
    "class Solution:\n",
    "    #前序递归输出\n",
    "    def preorderTraversal(self, root: TreeNode) -> List[int]:\n",
    "        ans = []\n",
    "        if root is None:\n",
    "            return ans\n",
    "        self.preTraverse(root, ans)\n",
    "        return ans\n",
    "    def preTraverse(self, t, ans):\n",
    "        ans.append(t.val)\n",
    "        if (t.left):#防止输入空值导致空.left不存在\n",
    "            self.preTraverse(t.left,ans)\n",
    "        if (t.right):\n",
    "            self.preTraverse(t.right,ans)"
   ]
  },
  {
   "cell_type": "markdown",
   "metadata": {},
   "source": [
    "### DFS 深度搜索-从下向上（分治法"
   ]
  },
  {
   "cell_type": "code",
   "execution_count": null,
   "metadata": {},
   "outputs": [],
   "source": [
    "class Solution:\n",
    "    def preorderTraversal(self, root: TreeNode) -> List[int]:\n",
    "        \n",
    "        if root is None:\n",
    "            return []\n",
    "        \n",
    "        left_result = self.preorderTraversal(root.left)\n",
    "        right_result = self.preorderTraversal(root.right)\n",
    "        \n",
    "        return [root.val] + left_result + right_result"
   ]
  },
  {
   "cell_type": "markdown",
   "metadata": {},
   "source": [
    "### 注意点：\n",
    "\n",
    "DFS 深度搜索（从上到下） 和分治法区别：前者一般将最终结果通过指针参数传入(ans = [])，后者一般递归返回结果最后合并\n",
    "分冶法就是递归"
   ]
  },
  {
   "cell_type": "markdown",
   "metadata": {},
   "source": [
    "# 迭代\n",
    "## 时间复杂度：O(n)，n为节点数，访问每个节点恰好一次。\n",
    "## 空间复杂度：O(h)，h为树的高度。取决于树的结构，最坏情况存储整棵树，即O(n)"
   ]
  },
  {
   "cell_type": "markdown",
   "metadata": {},
   "source": [
    "## 前中后都记迭代三，直观"
   ]
  },
  {
   "cell_type": "markdown",
   "metadata": {},
   "source": [
    "## 迭代模板一（先到左下）"
   ]
  },
  {
   "cell_type": "markdown",
   "metadata": {},
   "source": [
    "while( 栈非空 || node 非空)\n",
    "{\n",
    "if( p 非空)\n",
    "{\n",
    "\n",
    "}\n",
    "else\n",
    "{\n",
    "\n",
    "}\n",
    "}"
   ]
  },
  {
   "cell_type": "code",
   "execution_count": null,
   "metadata": {},
   "outputs": [],
   "source": [
    "class Solution:\n",
    "    def preorderTraversal(self, root: TreeNode) -> List[int]:\n",
    "        ans,s = [],[]\n",
    "        #if root is None:\n",
    "        #    return ans\n",
    "        node = root \n",
    "        while len(s)>0 or node is not None:\n",
    "            if node is not None:\n",
    "                ans.append(node.val)\n",
    "                s.append(node)\n",
    "                node = node.left\n",
    "            else:\n",
    "                node = s.pop()\n",
    "                node = node.right\n",
    "        return ans"
   ]
  },
  {
   "cell_type": "markdown",
   "metadata": {},
   "source": [
    "### 仅仅把ans.append换了下位置"
   ]
  },
  {
   "cell_type": "code",
   "execution_count": 12,
   "metadata": {},
   "outputs": [],
   "source": [
    "class Solution:\n",
    "    def inorderTraversal(self, root: TreeNode) -> List[int]:\n",
    "        s, inorder = [], []\n",
    "        node = root\n",
    "        while len(s) > 0 or node is not None:\n",
    "            if node is not None:\n",
    "                s.append(node)\n",
    "                node = node.left\n",
    "            else:\n",
    "                node = s.pop()\n",
    "                inorder.append(node.val)\n",
    "                node = node.right\n",
    "                #当当前节点不存在时，说明叶子节点是空的，取栈顶操作是相当于回溯，从叶子节点指向父节点\n",
    "        return inorder"
   ]
  },
  {
   "cell_type": "code",
   "execution_count": null,
   "metadata": {},
   "outputs": [],
   "source": [
    "class Solution:\n",
    "    def postorderTraversal(self, root: TreeNode) -> List[int]:\n",
    "\n",
    "        s, postorder = [], []\n",
    "        node, last_visit = root, None\n",
    "        \n",
    "        while len(s) > 0 or node is not None:\n",
    "            if node is not None:\n",
    "                s.append(node)\n",
    "                node = node.left\n",
    "            else:\n",
    "                peek = s[-1]\n",
    "                if peek.right is not None and last_visit != peek.right:\n",
    "                    node = peek.right\n",
    "                else:\n",
    "                    last_visit = s.pop()\n",
    "                    postorder.append(last_visit.val)\n",
    "        \n",
    "        \n",
    "        return postorder"
   ]
  },
  {
   "cell_type": "markdown",
   "metadata": {},
   "source": [
    "## 迭代模板二（只有前后序）(利用了stack的性质)"
   ]
  },
  {
   "cell_type": "markdown",
   "metadata": {},
   "source": [
    "stack = [root]\n",
    "\n",
    "while stack"
   ]
  },
  {
   "cell_type": "code",
   "execution_count": null,
   "metadata": {},
   "outputs": [],
   "source": [
    "# 迭代1：前序遍历最常用模板（后序同样可以用）\n",
    "class Solution:\n",
    "    def preorderTraversal(self, root: TreeNode) -> List[int]:\n",
    "        if not root:\n",
    "            return []        \n",
    "        res = []\n",
    "        stack = [root]\n",
    "        # # 前序迭代模板：最常用的二叉树DFS迭代遍历模板\n",
    "        while stack:\n",
    "            cur = stack.pop()\n",
    "            res.append(cur.val)\n",
    "            if cur.right:\n",
    "                stack.append(cur.right)\n",
    "            if cur.left:\n",
    "                stack.append(cur.left)\n",
    "        return res\n",
    "        \n",
    "        # # 后序迭代，相同模板：将前序迭代进栈顺序稍作修改，最后得到的结果反转 \n",
    "        #前序：中左右 --（调整）-->中右左 --（调转）-->左右中\n",
    "        # while stack:\n",
    "        #     cur = stack.pop()\n",
    "        #     res.append(cur.val)\n",
    "        #     if cur.left:\n",
    "        #         stack.append(cur.left)\n",
    "        #     if cur.right:\n",
    "        #         stack.append(cur.right)\n",
    "        # return res[::-1]"
   ]
  },
  {
   "cell_type": "markdown",
   "metadata": {},
   "source": [
    "## 迭代三（先到左下（本质和迭代一一样,但是后序遍历类似于迭代二（倒序, 遍历到右下角再倒过来）））"
   ]
  },
  {
   "cell_type": "markdown",
   "metadata": {},
   "source": [
    "res = []\n",
    "\n",
    "stack = []\n",
    "\n",
    "cur = root\n",
    "while( 栈非空 || node 非空):\n",
    "    while cur{}\n",
    "    "
   ]
  },
  {
   "cell_type": "code",
   "execution_count": null,
   "metadata": {},
   "outputs": [],
   "source": [
    "# 迭代2：前、中、后序遍历通用模板（只需一个栈的空间）\n",
    "class Solution:\n",
    "    def inorderTraversal(self, root: TreeNode) -> List[int]: \n",
    "        res = []\n",
    "        stack = []\n",
    "        cur = root\n",
    "        # 中序，模板：先用指针找到每颗子树的最左下角，然后进行进出栈操作\n",
    "        while stack or cur:\n",
    "            while cur:\n",
    "                stack.append(cur)\n",
    "                cur = cur.left\n",
    "            cur = stack.pop()\n",
    "            res.append(cur.val)\n",
    "            cur = cur.right\n",
    "        return res\n",
    "        \n",
    "        # # 前序，相同模板\n",
    "        # while stack or cur:\n",
    "        #     while cur:\n",
    "        #         res.append(cur.val)\n",
    "        #         stack.append(cur)\n",
    "        #         cur = cur.left\n",
    "        #     cur = stack.pop()\n",
    "        #     cur = cur.right\n",
    "        # return res\n",
    "        \n",
    "        # # 后序，相同模板\n",
    "        # while stack or cur:\n",
    "        #     while cur:\n",
    "        #         res.append(cur.val)\n",
    "        #         stack.append(cur)\n",
    "        #         cur = cur.right\n",
    "        #     cur = stack.pop()\n",
    "        #     cur = cur.left\n",
    "        # return res[::-1]"
   ]
  },
  {
   "cell_type": "code",
   "execution_count": null,
   "metadata": {},
   "outputs": [],
   "source": [
    "#（这段可以不管）可以看出，中序和后序都是先迭代到最左下角，再进行之后的操作，前序直接把根节点放到输出中(其实都可以套用到迭代到最左下角的形式)。都是利用栈来完成的操作，进栈顺序即之后输出的顺序。前序不需要存根节点（即子树的根节点）（因为遍历每一轮一上来就把它输出了），所以不需要node is not None 。删除的时候使用的是后序（防止没有根节点）"
   ]
  },
  {
   "cell_type": "markdown",
   "metadata": {},
   "source": [
    "# BFS 层次遍历\n",
    "\n",
    "## 递归（最朴素）"
   ]
  },
  {
   "cell_type": "code",
   "execution_count": null,
   "metadata": {},
   "outputs": [],
   "source": [
    "class Solution:\n",
    "    def levelOrder(self, root: TreeNode) -> List[List[int]]:\n",
    "        res = []\n",
    "        \n",
    "        def helper(root, depth):\n",
    "            if not root: return \n",
    "            if len(res) == depth:\n",
    "                res.append([])\n",
    "            res[depth].append(root.val)\n",
    "            helper(root.left, depth + 1)\n",
    "            helper(root.right, depth + 1)\n",
    "        helper(root, 0)\n",
    "        return res"
   ]
  },
  {
   "cell_type": "markdown",
   "metadata": {},
   "source": [
    "## 迭代"
   ]
  },
  {
   "cell_type": "code",
   "execution_count": null,
   "metadata": {},
   "outputs": [],
   "source": [
    "class Solution:\n",
    "    def levelOrder(self, root: TreeNode) -> List[List[int]]:\n",
    "        \n",
    "        levels = []\n",
    "        if root is None:\n",
    "            return levels\n",
    "        \n",
    "        bfs = collections.deque([root])\n",
    "        \n",
    "        while len(bfs) > 0: #改行有值则遍历改行\n",
    "            levels.append([])\n",
    "            \n",
    "            level_size = len(bfs)\n",
    "            for _ in range(level_size):\n",
    "                node = bfs.popleft()\n",
    "                levels[-1].append(node.val)\n",
    "                \n",
    "                if node.left is not None:\n",
    "                    bfs.append(node.left)\n",
    "                if node.right is not None:\n",
    "                    bfs.append(node.right)\n",
    "        \n",
    "        return levels\n",
    "\n",
    "#使用了队列的先进先出的特性，导致某层数量的nodes一定对应的是该层的nodes"
   ]
  },
  {
   "cell_type": "code",
   "execution_count": null,
   "metadata": {},
   "outputs": [],
   "source": [
    "#更直观\n",
    "class Solution:\n",
    "    def levelOrder(self, root: TreeNode) -> List[List[int]]:\n",
    "        if not root: return []\n",
    "        res = []\n",
    "        cur_level = [root]\n",
    "        while cur_level:\n",
    "            tmp = []#result的一行\n",
    "            next_level = []\n",
    "            for node in cur_level:\n",
    "                tmp.append(node.val)#其实这也是队列，利用了for 左边先出的性质\n",
    "                if node.left:\n",
    "                    next_level.append(node.left)\n",
    "                if node.right:\n",
    "                    next_level.append(node.right)\n",
    "            res.append(tmp)#有tmp因为liste是指针，不能直接用cur_level\n",
    "            cur_level = next_level\n",
    "        return res"
   ]
  },
  {
   "cell_type": "markdown",
   "metadata": {},
   "source": [
    "### 分治法应用\n",
    "\n",
    "先分别处理局部，再合并结果\n",
    "\n",
    "适用场景\n",
    "\n",
    "- 快速排序\n",
    "- 归并排序\n",
    "- 二叉树相关问题\n",
    "\n",
    "分治法模板\n",
    "\n",
    "- 递归返回条件\n",
    "- 分段处理\n",
    "- 合并结果\n"
   ]
  },
  {
   "cell_type": "markdown",
   "metadata": {},
   "source": [
    "### maximum-depth-of-binary-tree\n",
    "#### 给定一个二叉树，找出其最大深度。"
   ]
  },
  {
   "cell_type": "markdown",
   "metadata": {},
   "source": [
    "#### 思路1：分冶法\n",
    "#### 如果我们知道了左子树和右子树的最大深度 l 和 r，那么该二叉树的最大深度即为 max(l,r)+1， 子树的子树同样可以这么蒜"
   ]
  },
  {
   "cell_type": "code",
   "execution_count": null,
   "metadata": {},
   "outputs": [],
   "source": [
    "class Solution:\n",
    "    def maxDepth(self, root: TreeNode) -> int:\n",
    "        \n",
    "        if root is None:\n",
    "            return 0\n",
    "        \n",
    "        return 1 + max(self.maxDepth(root.left), self.maxDepth(root.right))"
   ]
  },
  {
   "cell_type": "markdown",
   "metadata": {},
   "source": [
    "#### 思路 2：层序遍历"
   ]
  },
  {
   "cell_type": "code",
   "execution_count": null,
   "metadata": {},
   "outputs": [],
   "source": [
    "class Solution:\n",
    "    def maxDepth(self, root: TreeNode) -> List[List[int]]:\n",
    "        \n",
    "        depth = 0\n",
    "        if root is None:\n",
    "            return depth\n",
    "        \n",
    "        bfs = collections.deque([root])\n",
    "        \n",
    "        while len(bfs) > 0:\n",
    "            depth += 1\n",
    "            level_size = len(bfs)\n",
    "            for _ in range(level_size):\n",
    "                node = bfs.popleft()\n",
    "                if node.left is not None:\n",
    "                    bfs.append(node.left)\n",
    "                if node.right is not None:\n",
    "                    bfs.append(node.right)\n",
    "        \n",
    "        return depth"
   ]
  },
  {
   "cell_type": "markdown",
   "metadata": {},
   "source": [
    "### balanced-binary-tree\n",
    "#### 给定一个二叉树，判断它是否是高度平衡的二叉树。\n",
    "这道题中的平衡二叉树的定义是：二叉树的每个节点的左右子树的高度差的绝对值不超过 1，则二叉树是平衡二叉树。根据定义，一棵二叉树是平衡二叉树，当且仅当其所有子树也都是平衡二叉树，因此可以使用递归的方式判断二叉树是不是平衡二叉树，递归的顺序可以是自顶向下或者自底向上。"
   ]
  },
  {
   "cell_type": "markdown",
   "metadata": {},
   "source": [
    "#### 思路 1：分治法，左边平衡 && 右边平衡 && 左右两边高度 <= 1，\n",
    "（自顶而下）有了计算节点高度的函数，即可判断二叉树是否平衡。具体做法类似于二叉树的前序遍历，即对于当前遍历到的节点，首先计算左右子树的高度，如果左右子树的高度差不超过 1，再分别递归地遍历左右子节点，并判断左子树和右子树是否平衡。这是一个自顶向下的递归的过程，时间复杂度O(n^2)\n",
    "\n",
    "（这里是自底而上，复杂度O(n)，类似于后序遍历）"
   ]
  },
  {
   "cell_type": "code",
   "execution_count": null,
   "metadata": {},
   "outputs": [],
   "source": [
    "class Solution:\n",
    "    def isBalanced(self, root: TreeNode) -> bool:\n",
    "        def depth(root):\n",
    "            if root is None:\n",
    "                return 0,True\n",
    "            depth_left, bool_left = depth(root.left)\n",
    "            depth_right, bool_right = depth(root.right)\n",
    "            return 1 + max(depth_left, depth_right), bool_left and bool_right and abs(depth_left - depth_right)<=1\n",
    "        _, ans = depth(root)\n",
    "        return ans"
   ]
  },
  {
   "cell_type": "markdown",
   "metadata": {},
   "source": [
    "#### 思路 2：使用后序遍历实现分治法的迭代版本(过于复杂，此处不显示)"
   ]
  },
  {
   "cell_type": "markdown",
   "metadata": {},
   "source": [
    "### 归并排序"
   ]
  },
  {
   "cell_type": "markdown",
   "metadata": {},
   "source": [
    "2.1 迭代法\n",
    "    ① 申请空间，使其大小为两个已经排序序列之和，该空间用来存放合并后的序列\n",
    "    ② 设定两个指针，最初位置分别为两个已经排序序列的起始位置\n",
    "    ③ 比较两个指针所指向的元素，选择相对小的元素放入到合并空间，并移动指针到下一位置\n",
    "    ④ 重复步骤③直到某一指针到达序列尾\n",
    "    ⑤ 将另一序列剩下的所有元素直接复制到合并序列尾\n",
    "2.2 递归法\n",
    "    ① 将序列每相邻两个数字进行归并操作，形成floor(n/2)个序列，排序后每个序列包含两个元素\n",
    "    ② 将上述序列再次归并，形成floor(n/4)个序列，每个序列包含四个元素\n",
    "    ③ 重复步骤②，直到所有元素排序完毕\n",
    "\n",
    "不管元素在什么情况下都要做这些步骤，所以花销的时间是不变的，所以该算法的最优时间复杂度和最差时间复杂度及平均时间复杂度都是一样的为：O( nlogn )\n",
    "\n",
    "归并的空间复杂度就是那个临时的数组和递归时压入栈的数据占用的空间：n + logn；所以空间复杂度为: O(n)。\n",
    "\n",
    "归并排序算法中，归并最后到底都是相邻元素之间的比较交换，并不会发生相同元素的相对位置发生变化，故是稳定性算法。\n",
    "稳定排序，外排序（占用额外内存），时间复杂度O(nlogn)\n",
    "\n",
    "递归需要返回结果用于合并"
   ]
  },
  {
   "cell_type": "code",
   "execution_count": null,
   "metadata": {},
   "outputs": [],
   "source": [
    "class Solution:\n",
    "    def sortArray(self, nums: List[int]) -> List[int]:\n",
    "        def merge_sort(nums):\n",
    "            if len(nums) <= 1:\n",
    "                return nums\n",
    "            mid = len(nums) // 2\n",
    "            # 分\n",
    "            left = merge_sort(nums[:mid])\n",
    "            right = merge_sort(nums[mid:])\n",
    "            # 合并\n",
    "            return merge(left, right)\n",
    "\n",
    "\n",
    "        def merge(left, right):\n",
    "            res = []\n",
    "            i = 0\n",
    "            j = 0\n",
    "            while i < len(left) and j < len(right):\n",
    "                if left[i] <= right[j]:\n",
    "                    res.append(left[i])\n",
    "                    i += 1\n",
    "                else:\n",
    "                    res.append(right[j])\n",
    "                    j += 1\n",
    "            res += left[i:]\n",
    "            res += right[j:]\n",
    "            return res\n",
    "        return merge_sort(nums)"
   ]
  },
  {
   "cell_type": "markdown",
   "metadata": {},
   "source": [
    "### 快速排序（分冶法自顶而下）"
   ]
  },
  {
   "cell_type": "markdown",
   "metadata": {},
   "source": [
    "平均时间复杂度：O(NlogN)\n",
    "最佳时间复杂度：O(NlogN)\n",
    "最差时间复杂度：O(N^2)\n",
    "空间复杂度：根据实现方式的不同而不同。\n",
    "最好的情况是枢纽元选取得当，每次都能均匀的划分序列。 时间复杂度O(nlogn)\n",
    "最坏情况是枢纽元为最大或者最小数字，那么所有数都划分到一个序列去了 时间复杂度为O(n^2)\n",
    "\n",
    "快排由于是原地交换所以没有合并过程 传入的索引是存在的索引（如：0、length-1 等），越界可能导致崩溃"
   ]
  },
  {
   "cell_type": "code",
   "execution_count": null,
   "metadata": {},
   "outputs": [],
   "source": [
    "def quick_sort(nums):\n",
    "    n = len(nums)\n",
    "\n",
    "    def quick(left, right):\n",
    "        if left >= right:#递归到左和右一样，直接退出\n",
    "            return nums\n",
    "        pivot = left\n",
    "        i = left\n",
    "        j = right\n",
    "        while i < j:\n",
    "            while i < j and nums[j] > nums[pivot]:#从右向左找第一个小于x的数\n",
    "                j -= 1\n",
    "            while i < j and nums[i] <= nums[pivot]:#从左向右找第一个大于x的数\n",
    "                i += 1\n",
    "            nums[i], nums[j] = nums[j], nums[i]#两者交换\n",
    "        nums[pivot], nums[j] = nums[j], nums[pivot]#把pivot放到停止的位置（之前小于pivot的数已经被挖走，此处是空的）\n",
    "        quick(left, j - 1)\n",
    "        quick(j + 1, right)\n",
    "        return nums\n",
    "\n",
    "    return quick(0, n - 1)"
   ]
  },
  {
   "cell_type": "markdown",
   "metadata": {},
   "source": [
    "### binary-tree-maximum-path-sum\n",
    "#### 给定一个非空二叉树，返回其最大路径和。\n",
    "思路：分治法。最大路径的可能情况：左子树的最大路径，右子树的最大路径，或通过根结点的最大路径。其中通过根结点的最大路径值等于以左子树根结点为端点的最大路径值加以右子树根结点为端点的最大路径值再加上根结点值，这里还要考虑有负值的情况即负值路径需要丢弃不取。"
   ]
  },
  {
   "cell_type": "code",
   "execution_count": null,
   "metadata": {},
   "outputs": [],
   "source": [
    "class Solution:\n",
    "    def maxPathSum(self, root: TreeNode) -> int:\n",
    "        \n",
    "        self.maxPath = float('-inf')\n",
    "     # 返回经过root的单边分支最大和， 即Math.max(root, root+left, root+right)\n",
    "     # @param root\n",
    "     # @return\n",
    "     #/\n",
    "        def dfs(root):\n",
    "            if root is None:\n",
    "                return float('-inf')\n",
    "        \n",
    "            #计算左边分支最大值，左边分支如果为负数还不如不选择\n",
    "            leftMax = max(0, dfs(root.left))\n",
    "            #计算右边分支最大值，右边分支如果为负数还不如不选择\n",
    "            rightMax = max(0,dfs(root.right))\n",
    "            #left->root->right 作为路径与已经计算过历史最大值做比较\n",
    "            self.maxPath = max(self.maxPath, root.val + leftMax + rightMax) #情况1\n",
    "            # 返回经过root的单边最大分支给当前root的父节点计算使用\n",
    "            return root.val + max(leftMax,rightMax) #情况2和3\n",
    "        \n",
    "        dfs(root)\n",
    "        return self.maxPath"
   ]
  },
  {
   "cell_type": "markdown",
   "metadata": {},
   "source": [
    " 二叉树 abc，a 是根结点（递归中的 root），bc 是左右子结点（代表其递归后的最优解）。\n",
    "最大的路径，可能的路径情况：\n",
    "    a\n",
    "   / \\\n",
    "  b   c\n",
    " 最大的路径，可能的路径情况：\n",
    " \n",
    "1.b + a + c。\n",
    "2.b + a + a 的父结点。\n",
    "3.a + c + a 的父结点。\n",
    "其中情况 1，表示如果不联络父结点的情况，或本身是根结点的情况。\n",
    "这种情况是没法递归的，但是结果有可能是全局最大路径和。\n",
    "情况 2 和 3，递归时计算 a+b 和 a+c，选择一个更优的方案返回，也就是上面说的递归后的最优解啦。\n",
    "\n",
    "另外结点有可能是负值，最大和肯定就要想办法舍弃负值（max(0, x)）（max(0,x)）。\n",
    "但是上面 3 种情况，无论哪种，a 作为联络点，都不能够舍弃。\n",
    "\n",
    "代码中使用 maxPath 来记录全局最大路径和。\n",
    "\n",
    "所要做的就是递归，递归时记录好全局最大和，返回联络最大和。"
   ]
  },
  {
   "cell_type": "markdown",
   "metadata": {},
   "source": [
    "### lowest-common-ancestor-of-a-binary-tree\n",
    "#### 给定一个二叉树, 找到该树中两个指定节点的最近公共祖先。\n",
    "说明:\n",
    "所有节点的值都是唯一的。\n",
    "p、q 为不同节点且均存在于给定的二叉树中。\n",
    "\n",
    "思路：分治法，有左子树的公共祖先或者有右子树的公共祖先，就返回子树的祖先，否则返回根节点\n",
    "\n",
    "祖先的定义： 若节点 p 在节点 root 的左（右）子树中，或 p = root ，则称 root 是 p 的祖先。\n",
    "\n",
    "最近公共祖先的定义： 设节点 root 为节点 p,q 的某公共祖先，若其左子节点 root.left 和右子节点 root.right 都不是 p,q 的公共祖先，则称 rootroot 是 “最近的公共祖先” 。\n",
    "\n",
    "根据以上定义，若 root 是 p,q 的 最近公共祖先 ，则只可能为以下情况之一：\n",
    "\n",
    "p 和 q 在 root 的子树中，且分列 root 的 异侧（即分别在左、右子树中）；\n",
    "p = root，且 q 在 root 的左或右子树中；(该情况直接遍历到root就不再往下遍历了)\n",
    "q = root，且 p 在 root 的左或右子树中；\n",
    "\n",
    "时间复杂度 O(N) ： 其中 N 为二叉树节点数；最差情况下，需要递归遍历树的所有节点。\n",
    "空间复杂度 O(N) ： 最差情况下，递归深度达到 N ，系统使用 O(N) 大小的额外空间。\n",
    "\n",
    "https://leetcode-cn.com/problems/lowest-common-ancestor-of-a-binary-tree/solution/236-er-cha-shu-de-zui-jin-gong-gong-zu-xian-hou-xu/"
   ]
  },
  {
   "cell_type": "code",
   "execution_count": null,
   "metadata": {},
   "outputs": [],
   "source": [
    "class Solution:\n",
    "    def lowestCommonAncestor(self, root: 'TreeNode', p: 'TreeNode', q: 'TreeNode') -> 'TreeNode':\n",
    "        \n",
    "        if root is None: #越过叶节点直接返回none\n",
    "            return None\n",
    "        \n",
    "        if root == p or root == q:\n",
    "            return root\n",
    "        \n",
    "        left = self.lowestCommonAncestor(root.left, p, q)\n",
    "        right = self.lowestCommonAncestor(root.right, p, q)\n",
    "        \n",
    "        if left is not None and right is not None:\n",
    "            return root\n",
    "        elif left is not None:\n",
    "            return left\n",
    "        elif right is not None:#分两种情况 1. p,q 其中一个在root的右子树中 2.p,q两个都在root的右子树中\n",
    "            return right\n",
    "        else:\n",
    "            return None"
   ]
  },
  {
   "cell_type": "markdown",
   "metadata": {},
   "source": [
    "# BFS层次运用"
   ]
  },
  {
   "cell_type": "markdown",
   "metadata": {},
   "source": [
    "### BFS\n",
    "### BFS自底而上（反转结果）"
   ]
  },
  {
   "cell_type": "markdown",
   "metadata": {},
   "source": [
    "### binary-tree-zigzag-level-order-traversal\n",
    "#### 给定一个二叉树，返回其节点值的锯齿形层次遍历。Z 字形遍历\n",
    "思路：在BFS迭代模板上改用双端队列控制输出顺序(每层bfs排序都是从左到右)"
   ]
  },
  {
   "cell_type": "code",
   "execution_count": null,
   "metadata": {},
   "outputs": [],
   "source": [
    "class Solution:\n",
    "    def zigzagLevelOrder(self, root: TreeNode) -> List[List[int]]:\n",
    "        \n",
    "        levels = []\n",
    "        if root is None:\n",
    "            return levels\n",
    "        \n",
    "        s = collections.deque([root])\n",
    "\n",
    "        start_from_left = True\n",
    "        while len(s) > 0:\n",
    "            levels.append([])\n",
    "            level_size = len(s)\n",
    "            \n",
    "            if start_from_left:\n",
    "                for _ in range(level_size):\n",
    "                    node = s.popleft()\n",
    "                    levels[-1].append(node.val)\n",
    "                    if node.left is not None:\n",
    "                        s.append(node.left)\n",
    "                    if node.right is not None:\n",
    "                        s.append(node.right)\n",
    "            else:\n",
    "                for _ in range(level_size):\n",
    "                    node = s.pop()\n",
    "                    levels[-1].append(node.val)\n",
    "                    if node.right is not None:\n",
    "                        s.appendleft(node.right)\n",
    "                    if node.left is not None:\n",
    "                        s.appendleft(node.left)\n",
    "            \n",
    "            start_from_left = not start_from_left\n",
    "            \n",
    "        \n",
    "        return levels"
   ]
  },
  {
   "cell_type": "markdown",
   "metadata": {},
   "source": [
    "# 二叉搜索树应用"
   ]
  },
  {
   "cell_type": "markdown",
   "metadata": {},
   "source": [
    "### validate-binary-search-tree\n",
    "#### 给定一个二叉树，判断其是否是一个有效的二叉搜索树。\n",
    "\n",
    "思路 1：中序遍历，检查结果列表是否已经有序\n",
    "思路 2：分治法，判断左 MAX < 根 < 右 MIN"
   ]
  },
  {
   "cell_type": "markdown",
   "metadata": {},
   "source": [
    "思路 1：基于方法一中提及的性质，我们可以进一步知道二叉搜索树「中序遍历」得到的值构成的序列一定是升序的，这启示我们在中序遍历的时候实时检查当前节点的值是否大于前一个中序遍历到的节点的值即可。如果均大于说明这个序列是升序的，整棵树是二叉搜索树，否则不是"
   ]
  },
  {
   "cell_type": "code",
   "execution_count": null,
   "metadata": {},
   "outputs": [],
   "source": [
    "#思路1（迭代）\n",
    "class Solution:\n",
    "    def isValidBST(self, root: TreeNode) -> bool:\n",
    "        pre = float('-inf')\n",
    "        if root is None:\n",
    "            return True\n",
    "        stack = []\n",
    "        cur = root\n",
    "        while stack or cur:\n",
    "            while cur:\n",
    "                stack.append(cur)\n",
    "                cur = cur.left\n",
    "            cur = stack.pop()\n",
    "            if pre >= cur.val:\n",
    "                return False\n",
    "            pre = cur.val\n",
    "            cur = cur.right\n",
    "\n",
    "        return True\n",
    "    \n",
    "#递归            \n",
    "class Solution:\n",
    "    pre = float('-inf')\n",
    "    def isValidBST(self, root: TreeNode) -> bool:\n",
    "        \n",
    "        if root is None:\n",
    "            return True\n",
    "        if not self.isValidBST(root.left):\n",
    "            return False\n",
    "        if (self.pre >= root.val):\n",
    "            return False\n",
    "        self.pre = root.val\n",
    "        if not self.isValidBST(root.right):\n",
    "            return False\n",
    "        return True\n",
    "        #最后三行可改写为 return self.isValidBST(root.right)"
   ]
  },
  {
   "cell_type": "markdown",
   "metadata": {},
   "source": [
    "思路2： 分治法，一个二叉树为合法的二叉搜索树当且仅当左右子树为合法二叉搜索树且根结点值大于右子树最小值小于左子树最大值。缺点是若不用迭代形式实现则无法提前返回，而迭代实现右比较复杂。（真难用）"
   ]
  },
  {
   "cell_type": "code",
   "execution_count": null,
   "metadata": {},
   "outputs": [],
   "source": [
    "class Solution:\n",
    "    def isValidBST(self, root: TreeNode) -> bool:\n",
    "        \n",
    "        if root is None: return True\n",
    "        \n",
    "        def valid_min_max(node):\n",
    "            \n",
    "            isValid = True\n",
    "            if node.left is not None:\n",
    "                l_isValid, l_min, l_max = valid_min_max(node.left)\n",
    "                isValid = isValid and node.val > l_max\n",
    "            else:\n",
    "                l_isValid, l_min = True, node.val\n",
    "\n",
    "            if node.right is not None:\n",
    "                r_isValid, r_min, r_max = valid_min_max(node.right)\n",
    "                isValid = isValid and node.val < r_min\n",
    "            else:\n",
    "                r_isValid, r_max = True, node.val\n",
    "\n",
    "                \n",
    "            return l_isValid and r_isValid and isValid, l_min, r_max #返回该树的最小值和最大值\n",
    "        \n",
    "        return valid_min_max(root)[0]"
   ]
  },
  {
   "cell_type": "markdown",
   "metadata": {},
   "source": [
    "思路 3：利用二叉搜索树的性质，根结点为左子树的右边界，右子树的左边界，使用先序遍历自顶向下更新左右子树的边界并检查是否合法，迭代版本实现简单且可以提前返回结果"
   ]
  },
  {
   "cell_type": "code",
   "execution_count": null,
   "metadata": {},
   "outputs": [],
   "source": [
    "#递归\n",
    "class Solution:\n",
    "    def isValidBST(self, root):\n",
    "        \n",
    "        def BFS(root, left, right):\n",
    "            if root is None:\n",
    "                return True\n",
    "            \n",
    "            if left < root.val < right:#若不符合直接返回false\n",
    "                return BFS(root.left, left, root.val) and BFS(root.right, root.val, right)\n",
    "            else:\n",
    "                return False\n",
    "\n",
    "        return BFS(root, -float('inf'), float('inf'))\n",
    "    \n",
    "class Solution:#从递归更改而来\n",
    "    def isValidBST(self, root: TreeNode) -> bool:\n",
    "        \n",
    "        if root is None:\n",
    "            return True\n",
    "        \n",
    "        s = [(root, float('-inf'), float('inf'))]\n",
    "        while len(s) > 0:\n",
    "            node, low, up = s.pop()\n",
    "            if low < node.val < up:\n",
    "                if node.left is not None:\n",
    "                    s.append((node.left,low,node.val))\n",
    "                if node.right is not None:\n",
    "                    s.append((node.right,node.val,up))\n",
    "            else:\n",
    "                return False\n",
    "        return True\n",
    "\n",
    "#迭代（笔记上给的非常不直观）"
   ]
  },
  {
   "cell_type": "markdown",
   "metadata": {},
   "source": [
    "### insert-into-a-binary-search-tree\n",
    "#### 给定二叉搜索树（BST）的根节点和要插入树中的值，将值插入二叉搜索树。 返回插入后二叉搜索树的根节点。\n",
    "\n",
    "思路：如果只是为了完成任务则找到最后一个叶子节点满足插入条件即可。但此题深挖可以涉及到如何插入并维持平衡二叉搜索树的问题，并不适合初学者。"
   ]
  },
  {
   "cell_type": "code",
   "execution_count": null,
   "metadata": {},
   "outputs": [],
   "source": [
    "class Solution:\n",
    "    def insertIntoBST(self, root: TreeNode, val: int) -> TreeNode:\n",
    "        \n",
    "        if root is None:\n",
    "            return TreeNode(val)\n",
    "        \n",
    "        node = root\n",
    "        while True:\n",
    "            if val > node.val:\n",
    "                if node.right is None:\n",
    "                    node.right = TreeNode(val)\n",
    "                    return root\n",
    "                else:\n",
    "                    node = node.right\n",
    "            else:\n",
    "                if node.left is None:\n",
    "                    node.left = TreeNode(val)\n",
    "                    return root\n",
    "                else:\n",
    "                    node = node.left"
   ]
  }
 ],
 "metadata": {
  "kernelspec": {
   "display_name": "Python 3",
   "language": "python",
   "name": "python3"
  },
  "language_info": {
   "codemirror_mode": {
    "name": "ipython",
    "version": 3
   },
   "file_extension": ".py",
   "mimetype": "text/x-python",
   "name": "python",
   "nbconvert_exporter": "python",
   "pygments_lexer": "ipython3",
   "version": "3.7.0"
  }
 },
 "nbformat": 4,
 "nbformat_minor": 4
}
