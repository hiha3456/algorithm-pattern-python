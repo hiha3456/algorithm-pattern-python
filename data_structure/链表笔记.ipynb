{
 "cells": [
  {
   "cell_type": "markdown",
   "metadata": {},
   "source": [
    "# 链表\n",
    "\n",
    "## 基本技能\n",
    "\n",
    "链表相关的核心点\n",
    "\n",
    "- null/nil 异常处理\n",
    "- dummy node 哑巴节点\n",
    "- 快慢指针\n",
    "- 插入一个节点到排序链表\n",
    "- 从一个链表中移除一个节点\n",
    "- 翻转链表\n",
    "- 合并两个链表\n",
    "- 找到链表的中间节点"
   ]
  },
  {
   "cell_type": "markdown",
   "metadata": {},
   "source": [
    "## 常见题型\n",
    "\n",
    "### [remove-duplicates-from-sorted-list](https://leetcode-cn.com/problems/remove-duplicates-from-sorted-list/)\n",
    "\n",
    "> 给定一个排序链表，删除所有重复的元素，使得每个元素只出现一次。\n"
   ]
  },
  {
   "cell_type": "code",
   "execution_count": null,
   "metadata": {},
   "outputs": [],
   "source": [
    "class Solution:\n",
    "    def deleteDuplicates(self, head: ListNode) -> ListNode:\n",
    "        \n",
    "        if head is None:\n",
    "            return head\n",
    "        \n",
    "        current = head\n",
    "        \n",
    "        while current.next is not None:\n",
    "            if current.next.val == current.val:\n",
    "                current.next = current.next.next\n",
    "            else:\n",
    "                current = current.next\n",
    "        \n",
    "        return head"
   ]
  },
  {
   "cell_type": "markdown",
   "metadata": {},
   "source": [
    "### [remove-duplicates-from-sorted-list-ii](https://leetcode-cn.com/problems/remove-duplicates-from-sorted-list-ii/)\n",
    "\n",
    "> 给定一个排序链表，删除所有含有重复数字的节点，只保留原始链表中   没有重复出现的数字。\n",
    "\n",
    "- 思路：链表头结点可能被删除，所以用 dummy node 辅助删除"
   ]
  },
  {
   "cell_type": "markdown",
   "metadata": {},
   "source": [
    "如果当前节点head的下一个节点head.next存在，且两个节点的值相等head.val==head.next.val，则当前节点后移，继续遍历后面节点head=head.next，直到相邻节点值不等\n",
    "当前节点head和下一个节点值不相同，则判断当前节点值head.val和前一个值pre是否相等，如果不等，说明当前节点前后没有相等的值，则需要添加到新链表中，让新链表上一个节点指向head节点cur.next=head，并移动cur指针\n",
    "关键点是，最后需要将新链表的最后指针的下一个位置指向空cur.next = None，否则会返回原链表中cur后续的节点。"
   ]
  },
  {
   "cell_type": "markdown",
   "metadata": {},
   "source": [
    "复杂度分析：\n",
    "时间复杂度：O(N)\n",
    "空间复杂度：O(1)"
   ]
  },
  {
   "cell_type": "code",
   "execution_count": null,
   "metadata": {},
   "outputs": [],
   "source": [
    "class Solution:\n",
    "    def deleteDuplicates(self, head: ListNode) -> ListNode:\n",
    "        if not head:\n",
    "            return\n",
    "        dummy = ListNode(next=head)\n",
    "        pre_val = None\n",
    "        pre_Node = dummy\n",
    "        cur_Node = head\n",
    "        while cur_Node is not None:\n",
    "            # 如果当前节点与下一个节点值相同，指针向后移动\n",
    "            while cur_Node.next and cur_Node.val == cur_Node.next.val:\n",
    "                pre_val = cur_Node.val\n",
    "                cur_Node = cur_Node.next\n",
    "            # 如果当前节点值与前后节点值均不相同，则将当前节点添加到新链表中\n",
    "            if cur_Node.val != pre_val:\n",
    "                pre_Node.next = cur_Node\n",
    "                pre_Node = pre_Node.next\n",
    "            cur_Node = cur_Node.next\n",
    "            \n",
    "        # 最后将新链表最后指针的下一个位置指向空\n",
    "        pre_Node.next = None\n",
    "        return dummy.next\n"
   ]
  },
  {
   "cell_type": "markdown",
   "metadata": {},
   "source": [
    "\n",
    "注意点\n",
    "• A->B->C 删除 B，A.next = C\n",
    "• 删除用一个 Dummy Node 节点辅助（允许头节点可变）\n",
    "• 访问 X.next 、X.value 一定要保证 X != nil\n"
   ]
  },
  {
   "cell_type": "markdown",
   "metadata": {},
   "source": [
    "\n",
    "### [reverse-linked-list](https://leetcode-cn.com/problems/reverse-linked-list/)\n",
    "\n",
    "> 反转一个单链表。\n",
    "\n",
    "- 思路：将当前结点放置到头结点"
   ]
  },
  {
   "cell_type": "markdown",
   "metadata": {},
   "source": [
    "#迭代\n",
    "好理解的双指针\n",
    "定义两个指针： prepre 和 curcur ；prepre 在前 curcur 在后。\n",
    "每次让 prepre 的 nextnext 指向 curcur ，实现一次局部反转\n",
    "局部反转完成之后，prepre 和 curcur 同时往前移动一个位置\n",
    "循环上述过程，直至 prepre 到达链表尾部"
   ]
  },
  {
   "cell_type": "code",
   "execution_count": null,
   "metadata": {},
   "outputs": [],
   "source": [
    "class Solution:\n",
    "    def reverseList(self, head: ListNode) -> ListNode:\n",
    "        if head is None:\n",
    "            return head\n",
    "        cur = head\n",
    "        pre = None\n",
    "        while cur is not None: #之所以不是用cur.next is not None是因为用了最后一个就不做了\n",
    "            tmp = cur.next\n",
    "            cur.next = pre\n",
    "            pre = cur\n",
    "            cur = tmp\n",
    "        return pre \n",
    "#https://leetcode-cn.com/problems/reverse-linked-list/solution/fan-zhuan-lian-biao-shuang-zhi-zhen-di-gui-yao-mo-/"
   ]
  },
  {
   "cell_type": "markdown",
   "metadata": {},
   "source": [
    "#递归\n",
    "使用递归函数，一直递归到链表的最后一个结点，该结点就是反转后的头结点，记作 retret .\n",
    "此后，每次函数在返回的过程中，让当前结点的下一个结点的 nextnext 指针指向当前节点。\n",
    "同时让当前结点的 nextnext 指针指向 NULLNULL ，从而实现从链表尾部开始的局部反转\n",
    "当递归函数全部出栈后，链表反转完成。"
   ]
  },
  {
   "cell_type": "code",
   "execution_count": null,
   "metadata": {},
   "outputs": [],
   "source": [
    "class Solution:\n",
    "    def reverseList(self, head: ListNode) -> ListNode:\n",
    "        \n",
    "        if head is None or head.next is None:#空列表或者链表尾\n",
    "            return head\n",
    "        \n",
    "        rev_next = self.reverseList(head.next)\n",
    "        head.next.next = head\n",
    "        head.next = None\n",
    "        \n",
    "        return rev_next"
   ]
  },
  {
   "cell_type": "markdown",
   "metadata": {},
   "source": [
    "#妖魔化的双指针\n",
    "原链表的头结点就是反转之后链表的尾结点，使用 head 标记 .\n",
    "定义指针 cur，初始化为 head\n",
    "每次都让 head 下一个结点的 next 指向 cur ，实现一次局部反转\n",
    "局部反转完成之后，cur和 head 的 next 指针同时 往前移动一个位置\n",
    "循环上述过程，直至 cur 到达链表的最后一个结点"
   ]
  },
  {
   "cell_type": "code",
   "execution_count": null,
   "metadata": {},
   "outputs": [],
   "source": [
    "class Solution:\n",
    "    def reverseList(self, head: ListNode) -> ListNode:\n",
    "        if head is None:\n",
    "            return head\n",
    "        cur = head\n",
    "        while head.next is not None:\n",
    "            t = head.next.next\n",
    "            head.next.next = cur\n",
    "            cur = head.next\n",
    "            head.next = t\n",
    "\n",
    "        return cur"
   ]
  },
  {
   "cell_type": "markdown",
   "metadata": {},
   "source": [
    "### [reverse-linked-list-ii](https://leetcode-cn.com/problems/reverse-linked-list-ii/)\n",
    "\n",
    "> 反转从位置  *m*  到  *n*  的链表。请使用一趟扫描完成反转。\n",
    "\n",
    "- 思路：先找到 m 处, 再反转 n - m 次即可(头插法（妖魔双指针的变体）)\n",
    "我们首先根据方法的参数m确定g和p的位置。将g移动到第一个要反转的节点的前面，将p移动到第一个要反转的节点的位置上。"
   ]
  },
  {
   "cell_type": "code",
   "execution_count": null,
   "metadata": {},
   "outputs": [],
   "source": [
    "class Solution:\n",
    "    def reverseBetween(self, head: ListNode, m: int, n: int) -> ListNode:\n",
    "        \n",
    "        if head is None:\n",
    "            return head\n",
    "        \n",
    "        n -= m # number of times of reverse\n",
    "        \n",
    "        guard = dummy = ListNode(next = head)\n",
    "        for _ in range(m-1):#在m前一位开始\n",
    "            guard = guard.next\n",
    "        \n",
    "        point = guard.next\n",
    "        for _ in range(n):#转插值数量的次数\n",
    "            tmp = point.next\n",
    "            point.next = point.next.next#删掉point的next\n",
    "            tmp.next = guard.next#后面两行，把之前point的next加到gaurd后\n",
    "            guard.next = tmp\n",
    "        return dummy.next "
   ]
  },
  {
   "cell_type": "markdown",
   "metadata": {},
   "source": [
    "\n",
    "### [merge-two-sorted-lists](https://leetcode-cn.com/problems/merge-two-sorted-lists/)\n",
    "\n",
    "> 将两个升序链表合并为一个新的升序链表并返回。新链表是通过拼接给定的两个链表的所有节点组成的。\n",
    "\n",
    "- 思路：通过 dummy node 链表，连接各个元素\n"
   ]
  },
  {
   "cell_type": "code",
   "execution_count": null,
   "metadata": {},
   "outputs": [],
   "source": [
    "class Solution:\n",
    "    def mergeTwoLists(self, l1: ListNode, l2: ListNode) -> ListNode:\n",
    "        dummy = cur = ListNode()\n",
    "        while l1 is not None and l2 is not None:\n",
    "            if(l1.val<=l2.val):\n",
    "                cur.next = l1\n",
    "                l1 = l1.next\n",
    "            else:\n",
    "                cur.next = l2\n",
    "                l2 = l2.next\n",
    "            cur = cur.next\n",
    "        if l1 is None:\n",
    "            cur.next = l2\n",
    "        if l2 is None:\n",
    "            cur.next = l1\n",
    "        \n",
    "        return dummy.next\n",
    "        "
   ]
  },
  {
   "cell_type": "markdown",
   "metadata": {},
   "source": [
    "### [partition-list](https://leetcode-cn.com/problems/partition-list/)\n",
    "\n",
    "> 给定一个链表和一个特定值 x，对链表进行分隔，使得所有小于  *x*  的节点都在大于或等于  *x*  的节点之前。\n",
    "\n",
    "- 思路：将大于 x 的节点，放到另外一个链表，最后连接这两个链表\n",
    "\n",
    "> 当头节点不确定的时候，使用哑巴节点"
   ]
  },
  {
   "cell_type": "code",
   "execution_count": null,
   "metadata": {},
   "outputs": [],
   "source": [
    "class Solution:\n",
    "    def partition(self, head: ListNode, x: int) -> ListNode:\n",
    "        \n",
    "        point_s = dummy_s = ListNode(next = head)\n",
    "        point_b = dummy_b = ListNode()\n",
    "\n",
    "        while point_s.next is not None:\n",
    "            if point_s.next.val<x:\n",
    "                point_s = point_s.next\n",
    "            else:\n",
    "                point_b.next = point_s.next\n",
    "                point_s.next = point_s.next.next\n",
    "                point_b = point_b.next\n",
    "\n",
    "        point_b.next = None\n",
    "        point_s.next = dummy_b.next\n",
    "        return dummy_s.next"
   ]
  },
  {
   "cell_type": "markdown",
   "metadata": {},
   "source": [
    "### [sort-list](https://leetcode-cn.com/problems/sort-list/)\n",
    "\n",
    "> 在  *O*(*n* log *n*) 时间复杂度和常数级空间复杂度下，对链表进行排序。\n",
    "\n",
    "- 思路：归并排序，slow-fast找中点\n",
    "\n",
    "注意点\n",
    "\n",
    "- 快慢指针 判断 fast 及 fast.Next 是否为 nil 值\n",
    "- 递归 mergeSort 需要断开中间节点\n",
    "- 递归返回条件为 head 为 nil 或者 head.Next 为 nil\n",
    "- 若想要O(1)空间复杂度的情况下，不能用递归"
   ]
  },
  {
   "cell_type": "code",
   "execution_count": null,
   "metadata": {},
   "outputs": [],
   "source": [
    "#递归\n",
    "\n",
    "class Solution:\n",
    "    \n",
    "    def _merge(self, l1, l2):\n",
    "        tail = l_merge = ListNode()\n",
    "        \n",
    "        while l1 is not None and l2 is not None:\n",
    "            if l1.val > l2.val:\n",
    "                tail.next = l2\n",
    "                l2 = l2.next\n",
    "            else:\n",
    "                tail.next = l1\n",
    "                l1 = l1.next\n",
    "            tail = tail.next\n",
    "\n",
    "        if l1 is not None:\n",
    "            tail.next = l1\n",
    "        else:\n",
    "            tail.next = l2\n",
    "        \n",
    "        return l_merge.next\n",
    "    \n",
    "    def _findmid(self, head):\n",
    "        slow, fast = head, head.next\n",
    "        while fast is not None and fast.next is not None:\n",
    "            fast = fast.next.next\n",
    "            slow = slow.next\n",
    "        \n",
    "        return slow\n",
    "    \n",
    "    def sortList(self, head: ListNode) -> ListNode:\n",
    "        if head is None or head.next is None:\n",
    "            return head\n",
    "        \n",
    "        mid = self._findmid(head)\n",
    "        tail = mid.next\n",
    "        mid.next = None # break from middle\n",
    "        \n",
    "        return self._merge(self.sortList(head), self.sortList(tail))"
   ]
  },
  {
   "cell_type": "markdown",
   "metadata": {},
   "source": [
    "# 迭代\n",
    "https://leetcode-cn.com/problems/sort-list/solution/sort-list-gui-bing-pai-xu-lian-biao-by-jyd/"
   ]
  },
  {
   "cell_type": "code",
   "execution_count": null,
   "metadata": {},
   "outputs": [],
   "source": [
    "# Definition for singly-linked list.\n",
    "# class ListNode:\n",
    "#     def __init__(self, val=0, next=None):\n",
    "#         self.val = val\n",
    "#         self.next = next\n",
    "class Solution:\n",
    "    def sortList(self, head: ListNode) -> ListNode:\n",
    "        h, length, intv = head, 0,1 \n",
    "        while h:\n",
    "            h = h.next\n",
    "            length += 1\n",
    "        res = ListNode(next = head)\n",
    "        #merge the list in different intv\n",
    "        while intv < length:\n",
    "            pre, h = res, res.next #切换到下一轮合并时，可通过res.next找到链表头部h\n",
    "            while h:\n",
    "                # get the two merge head `h1`, `h2`\n",
    "                h1 = h\n",
    "                i = intv\n",
    "                while i and h:\n",
    "                    h = h.next\n",
    "                    i -= 1\n",
    "                if i > 0:\n",
    "                    break #no need to merge because 'h2' is None\n",
    "                h2 = h\n",
    "                i = intv\n",
    "                while i and h:\n",
    "                    h = h.next\n",
    "                    i -= 1\n",
    "                c1, c2 = intv, intv - i # c2: length of h2 can be small than the 'intv'\n",
    "                #merge 'h1' and 'h2'\n",
    "                while c1 and c2:\n",
    "                    if h1.val <= h2.val:\n",
    "                        pre.next = h1\n",
    "                        h1 = h1.next\n",
    "                        c1 -=1\n",
    "                    else:\n",
    "                        pre.next = h2\n",
    "                        h2 = h2.next\n",
    "                        c2 -= 1\n",
    "                    pre = pre.next\n",
    "                pre.next = h1 if c1 else h2\n",
    "                while c1 > 0 or c2 > 0: #把剩下的遍历完\n",
    "                    pre = pre.next \n",
    "                    c1 = c1-1\n",
    "                    c2 = c2-1\n",
    "                pre.next = h \n",
    "            intv *= 2\n",
    "        return res.next\n"
   ]
  },
  {
   "cell_type": "markdown",
   "metadata": {},
   "source": [
    "### [reorder-list](https://leetcode-cn.com/problems/reorder-list/)\n",
    "\n",
    "> 给定一个单链表  *L*：*L*→*L*→…→*L\\_\\_n*→*L*\n",
    "> 将其重新排列后变为： *L*→*L\\_\\_n*→*L*→*L\\_\\_n*→*L*→*L\\_\\_n*→…"
   ]
  },
  {
   "cell_type": "markdown",
   "metadata": {},
   "source": [
    "方法一：线性表\n",
    "因为链表不支持下标访问，所以我们无法随机访问链表中任意位置的元素。\n",
    "\n",
    "因此比较容易想到的一个方法是，我们利用线性表存储该链表，然后利用线性表可以下标访问的特点，直接按顺序访问指定元素，重建该链表即可。"
   ]
  },
  {
   "cell_type": "code",
   "execution_count": null,
   "metadata": {},
   "outputs": [],
   "source": [
    "class Solution:\n",
    "    def reorderList(self, head: ListNode) -> None:\n",
    "        if not head:\n",
    "            return\n",
    "        \n",
    "        vec = list()\n",
    "        node = head\n",
    "        while node:\n",
    "            vec.append(node)\n",
    "            node = node.next\n",
    "        \n",
    "        i, j = 0, len(vec) - 1\n",
    "        while i < j:\n",
    "            vec[i].next = vec[j]\n",
    "            i += 1\n",
    "            if i == j:\n",
    "                break\n",
    "            vec[j].next = vec[i]\n",
    "            j -= 1\n",
    "        \n",
    "        vec[i].next = None"
   ]
  },
  {
   "cell_type": "markdown",
   "metadata": {},
   "source": [
    "方法二：寻找链表中点 + 链表逆序 + 合并链表"
   ]
  },
  {
   "cell_type": "code",
   "execution_count": null,
   "metadata": {},
   "outputs": [],
   "source": [
    "class Solution:\n",
    "    def reorderList(self, head: ListNode) -> None:\n",
    "        if not head:\n",
    "            return\n",
    "        \n",
    "        mid = self.middleNode(head)\n",
    "        l1 = head\n",
    "        l2 = mid.next\n",
    "        mid.next = None\n",
    "        l2 = self.reverseList(l2)\n",
    "        self.mergeList(l1, l2)\n",
    "    \n",
    "    def middleNode(self, head: ListNode) -> ListNode:\n",
    "        slow = fast = head\n",
    "        while fast.next and fast.next.next:\n",
    "            slow = slow.next\n",
    "            fast = fast.next.next\n",
    "        return slow\n",
    "    \n",
    "    def reverseList(self, head: ListNode) -> ListNode:\n",
    "        prev = None #注意这里一定是None\n",
    "        curr = head\n",
    "        while curr:\n",
    "            nextTemp = curr.next\n",
    "            curr.next = prev\n",
    "            prev = curr\n",
    "            curr = nextTemp\n",
    "        return prev\n",
    "\n",
    "    def mergeList(self, l1: ListNode, l2: ListNode):\n",
    "        while l1 and l2:\n",
    "            l1_tmp = l1.next\n",
    "            l2_tmp = l2.next\n",
    "\n",
    "            l1.next = l2\n",
    "            l1 = l1_tmp\n",
    "\n",
    "            l2.next = l1\n",
    "            l2 = l2_tmp"
   ]
  },
  {
   "cell_type": "markdown",
   "metadata": {},
   "source": [
    "### [linked-list-cycle](https://leetcode-cn.com/problems/linked-list-cycle/)\n",
    "\n",
    "> 给定一个链表，判断链表中是否有环。\n",
    "\n",
    "- 思路1：Hash Table 记录所有结点判断重复，空间复杂度 O(n) 非最优，时间复杂度 O(n) 但必然需要 n 次循环\n",
    "- 思路2：快慢指针，快慢指针相同则有环，证明：如果有环每走一步快慢指针距离会减 1，空间复杂度 O(1) 最优，时间复杂度 O(n) 但循环次数小于等于 n\n",
    "\n",
    "  ![fast_slow_linked_list](https://img.fuiboom.com/img/fast_slow_linked_list.png)"
   ]
  },
  {
   "cell_type": "code",
   "execution_count": null,
   "metadata": {},
   "outputs": [],
   "source": [
    "class Solution:\n",
    "    def hasCycle(self, head: ListNode) -> bool:\n",
    "        seen = set()\n",
    "        while head:\n",
    "            if head in seen:\n",
    "                return True\n",
    "            seen.add(head)\n",
    "            head = head.next\n",
    "        return False"
   ]
  },
  {
   "cell_type": "code",
   "execution_count": null,
   "metadata": {},
   "outputs": [],
   "source": [
    "class Solution:\n",
    "    def hasCycle(self, head: ListNode) -> bool:\n",
    "        if not head or not head.next:\n",
    "            return False\n",
    "        slow = head\n",
    "        fast = head.next\n",
    "\n",
    "        while fast and fast.next:\n",
    "            fast = fast.next.next\n",
    "            slow = slow.next\n",
    "            if fast == slow:\n",
    "                return True\n",
    "        return False"
   ]
  },
  {
   "cell_type": "markdown",
   "metadata": {},
   "source": [
    "\n",
    "### [linked-list-cycle-ii](https://leetcode-cn.com/problems/linked-list-cycle-ii/)\n",
    "\n",
    "> 给定一个链表，返回链表开始入环的第一个节点。  如果链表无环，则返回  `null`。\n",
    "\n",
    "- 思路：快慢指针，快慢相遇之后，慢指针回到头，快慢指针步调一致一起移动，相遇点即为入环点。\n",
    "![cycled_linked_list](https://img.fuiboom.com/img/cycled_linked_list.png)"
   ]
  },
  {
   "cell_type": "code",
   "execution_count": null,
   "metadata": {},
   "outputs": [],
   "source": [
    "class Solution:\n",
    "    def detectCycle(self, head: ListNode) -> ListNode:\n",
    "        \n",
    "        slow = fast = head\n",
    "        \n",
    "        while fast is not None and fast.next is not None:\n",
    "            slow = slow.next\n",
    "            fast = fast.next.next\n",
    "            \n",
    "            if slow == fast:\n",
    "                slow = head\n",
    "                while fast != slow:\n",
    "                    fast = fast.next\n",
    "                    slow = slow.next\n",
    "                return slow\n",
    "\n",
    "        return None"
   ]
  },
  {
   "cell_type": "markdown",
   "metadata": {},
   "source": [
    "坑点\n",
    "\n",
    "- 指针比较时直接比较对象，不要用值比较，链表中有可能存在重复值情况\n",
    "- 第一次相交后，快指针需要从下一个节点开始和头指针一起匀速移动\n",
    "\n",
    "\n",
    "注意，此题中使用 slow = fast = head 是为了保证最后找环起始点时移动步数相同，但是作为找中点使用时**一般用 fast=head.Next 较多**，因为这样可以知道中点的上一个节点，可以用来删除等操作。\n",
    "\n",
    "- fast 如果初始化为 head.Next 则中点在 slow.Next\n",
    "- fast 初始化为 head,则中点在 slow\n",
    "\n",
    "# 不是吧，应该是若是奇数链表，slow一直是中点，若是偶数链表，fast = head, slow是中点靠后那一个，fast =head.next, slow是中点靠前那一个"
   ]
  },
  {
   "cell_type": "markdown",
   "metadata": {},
   "source": [
    "另一思路：哈希表"
   ]
  },
  {
   "cell_type": "code",
   "execution_count": null,
   "metadata": {},
   "outputs": [],
   "source": [
    "class Solution:\n",
    "    def detectCycle(self, head: ListNode) -> ListNode:\n",
    "\n",
    "        seen = set()\n",
    "\n",
    "        while head is not None:\n",
    "            seen.add(head)\n",
    "            head = head.next\n",
    "            if head in seen:\n",
    "                return head\n",
    "        return head    "
   ]
  },
  {
   "cell_type": "markdown",
   "metadata": {},
   "source": [
    "### [palindrome-linked-list](https://leetcode-cn.com/problems/palindrome-linked-list/)\n",
    "\n",
    "> 请判断一个链表是否为回文链表。"
   ]
  },
  {
   "cell_type": "markdown",
   "metadata": {},
   "source": [
    "思路1：把链表复制入数组中\n",
    "\n",
    "在编码的过程中，注意我们比较的是节点值的大小，而不是节点本身。正确的比较方式是：node_1.val == node_2.val，而 node_1 == node_2 是错误的。"
   ]
  },
  {
   "cell_type": "code",
   "execution_count": null,
   "metadata": {},
   "outputs": [],
   "source": [
    "class Solution:\n",
    "    def isPalindrome(self, head: ListNode) -> bool:\n",
    "        vals = []\n",
    "        current_node = head\n",
    "        while current_node is not None:\n",
    "            vals.append(current_node.val)\n",
    "            current_node = current_node.next\n",
    "        return vals == vals[::-1]"
   ]
  },
  {
   "cell_type": "code",
   "execution_count": null,
   "metadata": {},
   "outputs": [],
   "source": [
    "思路2：递归\n",
    "时空复杂度O(n)"
   ]
  },
  {
   "cell_type": "code",
   "execution_count": null,
   "metadata": {},
   "outputs": [],
   "source": [
    "class Solution:\n",
    "    def isPalindrome(self, head: ListNode) -> bool:\n",
    "        self.front = head\n",
    "        def reverse(cur):\n",
    "            if cur is not None:\n",
    "                if reverse(cur.next) == False:\n",
    "                    return False\n",
    "                if self.front.val != cur.val:\n",
    "                    return False\n",
    "                self.front = self.front.next\n",
    "            return True\n",
    "        return reverse(head)"
   ]
  },
  {
   "cell_type": "markdown",
   "metadata": {},
   "source": [
    "思路3：O(1) 空间复杂度的解法需要破坏原链表（找中点 -> 反转后半个list -> 判断回文）(并发条件下要锁定其他线程或进程对链表的访问)，在实际应用中往往还需要复原（后半个list再反转一次后拼接"
   ]
  },
  {
   "cell_type": "code",
   "execution_count": null,
   "metadata": {},
   "outputs": [],
   "source": [
    "class Solution:\n",
    "    def isPalindrome(self, head: ListNode) -> bool:\n",
    "        if head is None:\n",
    "            return True\n",
    "\n",
    "        mid = self.find_mid(head)\n",
    "        l2 = mid.next\n",
    "        mid.next = None\n",
    "        l2 = self.reverse_List(l2)\n",
    "        l1 = head\n",
    "        head_2 = l2\n",
    "        res = True\n",
    "\n",
    "        while l2 is not None and l1 is not None:\n",
    "            if l1.val != l2.val:\n",
    "                res = False\n",
    "            l1 = l1.next\n",
    "            l2 = l2.next\n",
    "\n",
    "        head_2 = self.reverse_List(head_2)\n",
    "        mid.next = head_2\n",
    "\n",
    "        return res\n",
    "\n",
    "    def find_mid(self, head):\n",
    "        slow = head\n",
    "        fast = head.next\n",
    "        while fast is not None and fast.next is not None:\n",
    "            slow = slow.next\n",
    "            fast = fast.next.next\n",
    "        return slow\n",
    "\n",
    "    def reverse_List(self, head):\n",
    "        cur = head\n",
    "        pre = None\n",
    "        while cur is not None:\n",
    "            tmp = cur.next\n",
    "            cur.next = pre\n",
    "            pre = cur\n",
    "            cur = tmp\n",
    "        return pre\n"
   ]
  },
  {
   "cell_type": "markdown",
   "metadata": {},
   "source": [
    "- 思路4：思路3操作比较复杂，这里给出更工程化的做法"
   ]
  },
  {
   "cell_type": "code",
   "execution_count": null,
   "metadata": {},
   "outputs": [],
   "source": [
    "class Solution:\n",
    "    def isPalindrome(self, head: ListNode) -> bool:\n",
    "        \n",
    "        s = []\n",
    "        slow = fast = head\n",
    "        while fast is not None and fast.next is not None:#找到中点时偶数存的正好是前一半，奇数存的是中点之前\n",
    "            s.append(slow.val)\n",
    "            slow = slow.next\n",
    "            fast = fast.next.next\n",
    "        \n",
    "        if fast is not None: #链表为奇数\n",
    "            slow = slow.next\n",
    "        \n",
    "        while len(s) > 0:\n",
    "            if slow.val != s.pop():\n",
    "                return False\n",
    "            slow = slow.next\n",
    "            \n",
    "        return True"
   ]
  },
  {
   "cell_type": "markdown",
   "metadata": {},
   "source": [
    "### [copy-list-with-random-pointer](https://leetcode-cn.com/problems/copy-list-with-random-pointer/)\n",
    "\n",
    "> 给定一个链表，每个节点包含一个额外增加的随机指针，该指针可以指向链表中的任何节点或空节点。\n",
    "> 要求返回这个链表的 深拷贝。"
   ]
  },
  {
   "cell_type": "markdown",
   "metadata": {},
   "source": [
    "- 思路1：Python一行代码，调用深拷贝函数"
   ]
  },
  {
   "cell_type": "code",
   "execution_count": 3,
   "metadata": {},
   "outputs": [],
   "source": [
    "class Solution:\n",
    "    def copyRandomList(self, head: 'Node') -> 'Node':\n",
    "        return copy.deepcopy(head)"
   ]
  },
  {
   "cell_type": "markdown",
   "metadata": {},
   "source": [
    "- 思路2：hash table 存储 random 指针的连接关系"
   ]
  },
  {
   "cell_type": "code",
   "execution_count": null,
   "metadata": {},
   "outputs": [],
   "source": [
    "class Solution(object):\n",
    "    \"\"\"\n",
    "    :type head: Node\n",
    "    :rtype: Node\n",
    "    \"\"\"\n",
    "    def __init__(self):\n",
    "        # Dictionary which holds old nodes as keys and new nodes as its values.\n",
    "        self.visitedHash = {}\n",
    "\n",
    "    def copyRandomList(self, head):\n",
    "\n",
    "        if head == None:\n",
    "            return None\n",
    "\n",
    "        # If we have already processed the current node, then we simply return the cloned version of it.\n",
    "        if head in self.visitedHash:\n",
    "            return self.visitedHash[head]\n",
    "\n",
    "        # create a new node\n",
    "        # with the value same as old node.\n",
    "        node = Node(head.val, None, None)\n",
    "\n",
    "        # Save this value in the hash map. This is needed since there might be\n",
    "        # loops during traversal due to randomness of random pointers and this would help us avoid them.\n",
    "        self.visitedHash[head] = node\n",
    "\n",
    "        # Recursively copy the remaining linked list starting once from the next pointer and then from the random pointer.\n",
    "        # Thus we have two independent recursive calls.\n",
    "        # Finally we update the next and random pointers for the new node created.\n",
    "        node.next = self.copyRandomList(head.next)\n",
    "        node.random = self.copyRandomList(head.random)"
   ]
  },
  {
   "cell_type": "markdown",
   "metadata": {},
   "source": [
    "复杂度分析\n",
    "\n",
    "时间复杂度：O(N)O(N) ，其中 NN 是链表中节点的数目。\n",
    "空间复杂度：O(N)O(N) 。如果我们仔细分析，我们需要维护一个回溯的栈，同时也需要记录已经被深拷贝过的节点，也就是维护一个已访问字典。渐进时间复杂度为 O(N)O(N)"
   ]
  },
  {
   "cell_type": "markdown",
   "metadata": {},
   "source": [
    "思路3 2：O(N) 空间的迭代\n",
    "\n",
    "想法\n",
    "\n",
    "迭代算法不需要将链表视为一个图。当我们在迭代链表时，我们只需要为 random 指针和 next 指针指向的未访问过节点创造新的节点并赋值即可。"
   ]
  },
  {
   "cell_type": "code",
   "execution_count": null,
   "metadata": {},
   "outputs": [],
   "source": [
    "class Solution(object):\n",
    "    def __init__(self):\n",
    "        # Creating a visited dictionary to hold old node reference as \"key\" and new node reference as the \"value\"\n",
    "        self.visited = {}\n",
    "\n",
    "    def getClonedNode(self, node):\n",
    "        # If node exists then\n",
    "        if node:\n",
    "            # Check if its in the visited dictionary          \n",
    "            if node in self.visited:\n",
    "                # If its in the visited dictionary then return the new node reference from the dictionary\n",
    "                return self.visited[node]\n",
    "            else:\n",
    "                # Otherwise create a new node, save the reference in the visited dictionary and return it.\n",
    "                self.visited[node] = Node(node.val, None, None)\n",
    "                return self.visited[node]\n",
    "        return None\n",
    "\n",
    "    def copyRandomList(self, head):\n",
    "        \"\"\"\n",
    "        :type head: Node\n",
    "        :rtype: Node\n",
    "        \"\"\"\n",
    "\n",
    "        if not head:\n",
    "            return head\n",
    "\n",
    "        old_node = head\n",
    "        # Creating the new head node.       \n",
    "        new_node = Node(old_node.val, None, None)\n",
    "        self.visited[old_node] = new_node\n",
    "\n",
    "        # Iterate on the linked list until all nodes are cloned.\n",
    "        while old_node != None:\n",
    "            #new_node = self.getClonedNode(old_node) #没必要\n",
    "\n",
    "            # Get the clones of the nodes referenced by random and next pointers.\n",
    "            new_node.random = self.getClonedNode(old_node.random)\n",
    "            new_node.next = self.getClonedNode(old_node.next)\n",
    "\n",
    "            # Move one step ahead in the linked list.\n",
    "            old_node = old_node.next\n",
    "            new_node = new_node.next\n",
    "\n",
    "        return self.visited[head]"
   ]
  },
  {
   "cell_type": "markdown",
   "metadata": {},
   "source": [
    "方法 4：O(1) 空间的迭代 (时间复杂度O(N)空间复杂度O(1))"
   ]
  },
  {
   "cell_type": "code",
   "execution_count": null,
   "metadata": {},
   "outputs": [],
   "source": [
    "class Solution(object):\n",
    "    #ptr有 ptr.next一定有\n",
    "    def copyRandomList(self, head):\n",
    "        \"\"\"\n",
    "        :type head: Node\n",
    "        :rtype: Node\n",
    "        \"\"\"\n",
    "        if not head:\n",
    "            return head\n",
    "\n",
    "        # Creating a new weaved list of original and copied nodes.\n",
    "        ptr = head\n",
    "        while ptr:\n",
    "\n",
    "            # Cloned node\n",
    "            new_node = Node(ptr.val, None, None)\n",
    "\n",
    "            # Inserting the cloned node just next to the original node.\n",
    "            # If A->B->C is the original linked list,\n",
    "            # Linked list after weaving cloned nodes would be A->A'->B->B'->C->C'\n",
    "            new_node.next = ptr.next\n",
    "            ptr.next = new_node\n",
    "            ptr = new_node.next\n",
    "\n",
    "        ptr = head\n",
    "\n",
    "        # Now link the random pointers of the new nodes created.\n",
    "        # Iterate the newly created list and use the original nodes random pointers,\n",
    "        # to assign references to random pointers for cloned nodes.\n",
    "        while ptr:\n",
    "            ptr.next.random = ptr.random.next if ptr.random else None\n",
    "            ptr = ptr.next.next\n",
    "\n",
    "        # Unweave the linked list to get back the original linked list and the cloned list.\n",
    "        # i.e. A->A'->B->B'->C->C' would be broken to A->B->C and A'->B'->C'\n",
    "        ptr_old_list = head # A->B->C\n",
    "        ptr_new_list = head.next # A'->B'->C'\n",
    "        head_old = head.next\n",
    "        while ptr_old_list:\n",
    "            ptr_old_list.next = ptr_old_list.next.next\n",
    "            ptr_new_list.next = ptr_new_list.next.next if ptr_new_list.next else None\n",
    "            ptr_old_list = ptr_old_list.next\n",
    "            ptr_new_list = ptr_new_list.next\n",
    "        return head_old"
   ]
  }
 ],
 "metadata": {
  "kernelspec": {
   "display_name": "Python 3",
   "language": "python",
   "name": "python3"
  },
  "language_info": {
   "codemirror_mode": {
    "name": "ipython",
    "version": 3
   },
   "file_extension": ".py",
   "mimetype": "text/x-python",
   "name": "python",
   "nbconvert_exporter": "python",
   "pygments_lexer": "ipython3",
   "version": "3.7.0"
  }
 },
 "nbformat": 4,
 "nbformat_minor": 4
}
