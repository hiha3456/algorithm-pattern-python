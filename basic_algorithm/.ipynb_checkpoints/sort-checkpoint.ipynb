{
 "cells": [
  {
   "cell_type": "markdown",
   "metadata": {},
   "source": [
    "选择排序\n",
    "时间复杂度都是O(n^2)，不稳定\n",
    "是表现最稳定的排序算法之一 ，因为无论什么数据进去都是O(n2)的时间复杂度 \n",
    "选择排序是给每个位置选择当前元素最小的，比如给第一个位置选择最小的，在剩余元素里面给第二个元素选择第二小的，依次类推，直到第n - 1个元素，第n个元素不用选择了，因为只剩下它一个最大的元素了。那么，在一趟选择，如果当前元素比一个元素小，而该小的元素又出现在一个和当前元素相等 的元素后面，那么交换后稳定性就被破坏了。比较拗口，举个例子，序列5 8 5 2 9，我们知道第一遍选择第1个元素5会和2交换，那么原序列中2个5的相对前后顺序就被破坏了，所以选择排序不是一个稳定的排序算法。\n",
    "\n",
    "它的工作原理：首先在未排序序列中找到最小（大）元素，存放到排序序列的起始位置，然后，再从剩余未排序元素中继续寻找最小（大）元素，然后放到已排序序列的末尾"
   ]
  },
  {
   "cell_type": "code",
   "execution_count": null,
   "metadata": {},
   "outputs": [],
   "source": [
    "class Solution:\n",
    "    def sortArray(self, nums: List[int]) -> List[int]:\n",
    "        n = len(nums)\n",
    "        for i in range(n-1):\n",
    "            minIndex = i \n",
    "            for j in range(i+1,n):\n",
    "                if nums[minIndex] > nums[j]:\n",
    "                    minIndex = j\n",
    "            nums[minIndex], nums[i] = nums[i], nums[minIndex]\n",
    "        return nums"
   ]
  },
  {
   "cell_type": "markdown",
   "metadata": {},
   "source": [
    "冒泡排序\n",
    "时间复杂度最差O(n^2)，最好O(n)，平均O(n^2) 稳定排序，内排序\n",
    "冒泡排序时针对相邻元素之间的比较，可以将大的数慢慢“沉底”(数组尾部)\n",
    "\n",
    "最佳情况和最坏情况都是O（n^2）;\n",
    "\n",
    "但是如果在算法中加入didSwap标记\n",
    "\n",
    "如果循环没有进行交换，可以理解为数组已经排好序，同时退出排序；\n",
    "\n",
    "此时最佳情况为数组本来就按要求排好序，只需要O(n)就可以结束算法；"
   ]
  },
  {
   "cell_type": "code",
   "execution_count": null,
   "metadata": {},
   "outputs": [],
   "source": [
    "class Solution:\n",
    "    def sortArray(self, nums: List[int]) -> List[int]:\n",
    "        if nums is None: return nums\n",
    "        n = len(nums)\n",
    "        for i in range(n):\n",
    "            for j in range(n-i-1):\n",
    "                if nums[j] > nums[j+1]:\n",
    "                    nums[j], nums[j+1] = nums[j+1], nums[j]\n",
    "        return nums"
   ]
  },
  {
   "cell_type": "markdown",
   "metadata": {},
   "source": [
    "插入排序是前面已排序数组找到插入的位置\n",
    "3.4 算法分析\n",
    "最佳情况：T(n) = O(n)\n",
    "最坏情况：T(n) = O(n2)\n",
    "平均情况：T(n) = O(n2)"
   ]
  },
  {
   "cell_type": "code",
   "execution_count": null,
   "metadata": {},
   "outputs": [],
   "source": [
    "class Solution:\n",
    "    def sortArray(self, nums: List[int]) -> List[int]:\n",
    "        if nums is None: return None\n",
    "        n = len(nums)\n",
    "        for i in range(1,n):\n",
    "            j = i\n",
    "            while j > 0 and nums[j-1] > nums[j]:\n",
    "                nums[j-1],nums[j] = nums[j],nums[j-1]\n",
    "                j -= 1\n",
    "        return nums"
   ]
  },
  {
   "cell_type": "markdown",
   "metadata": {},
   "source": [
    "希尔排序：我们来看下希尔排序的基本步骤，在此我们选择增量gap=length/2，缩小增量继续以gap = gap/2的方式，这种增量选择我们可以用一个序列来表示，{n/2,(n/2)/2…1}，称为增量序列。希尔排序的增量序列的选择与证明是个数学难题，我们选择的这个增量序列是比较常用的，也是希尔建议的增量，称为希尔增量，但其实这个增量序列不是最优的。此处我们做示例使用希尔增量。\n",
    "\n",
    "先将整个待排序的记录序列分割成为若干子序列分别进行直接插入排序，具体算法描述：\n",
    "步骤1：选择一个增量序列t1，t2，…，tk，其中ti>tj，tk=1；\n",
    "步骤2：按增量序列个数k，对序列进行k 趟排序；\n",
    "步骤3：每趟排序，根据对应的增量ti，将待排序列分割成若干长度为m 的子序列，分别对各子表进行直接插入排序。仅增量因子为1 时，整个序列作为一个表来处理，表长度即为整个序列的长度。"
   ]
  },
  {
   "cell_type": "code",
   "execution_count": null,
   "metadata": {},
   "outputs": [],
   "source": [
    "class Solution(object):\n",
    "    def sortArray(self, nums):\n",
    "        if nums is None:\n",
    "            return None\n",
    "        \n",
    "        n = len(nums)\n",
    "        gap = n // 2\n",
    "\n",
    "        while gap > 0:\n",
    "            for i in range(gap, n):#\n",
    "                while i - gap >= 0 and nums[i-gap] > nums[i]:#以i及i之前隔着gap个数作为插入排序的一次迭代，到尾每一组都能迭代完\n",
    "                    nums[i-gap],nums[i] = nums[i],nums[i-gap]\n",
    "                    i -= gap\n",
    "            gap //= 2 \n",
    "        return nums"
   ]
  },
  {
   "cell_type": "markdown",
   "metadata": {},
   "source": [
    "4.4 算法分析\n",
    "最佳情况：T(n) = O(nlog2 n)\n",
    "最坏情况：T(n) = O(nlog2 n)\n",
    "平均情况：T(n) =O(nlog2n)"
   ]
  },
  {
   "cell_type": "markdown",
   "metadata": {},
   "source": [
    "归并排序:O(nlogn的时间复杂度)，O(n)的空间复杂度"
   ]
  },
  {
   "cell_type": "code",
   "execution_count": null,
   "metadata": {},
   "outputs": [],
   "source": [
    "class Solution:\n",
    "    def sortArray(self, nums: List[int]) -> List[int]:\n",
    "        def merge_sort(nums):\n",
    "            if len(nums) <= 1:\n",
    "                return nums\n",
    "            mid = len(nums) // 2\n",
    "            # 分\n",
    "            left = merge_sort(nums[:mid])\n",
    "            right = merge_sort(nums[mid:])\n",
    "            # 合并\n",
    "            return merge(left, right)\n",
    "\n",
    "\n",
    "        def merge(left, right):\n",
    "            res = []\n",
    "            i = 0\n",
    "            j = 0\n",
    "            while i < len(left) and j < len(right):\n",
    "                if left[i] <= right[j]:\n",
    "                    res.append(left[i])\n",
    "                    i += 1\n",
    "                else:\n",
    "                    res.append(right[j])\n",
    "                    j += 1\n",
    "            res += left[i:]\n",
    "            res += right[j:]\n",
    "            return res\n",
    "        return merge_sort(nums)"
   ]
  },
  {
   "cell_type": "markdown",
   "metadata": {},
   "source": [
    "快排:不稳定排序，内排序，时间复杂度度O(nlogn) 最差 O(n^2)\n",
    "    \n",
    "快速排序 的基本思想：通过一趟排序将待排记录分隔成独立的两部分，其中一部分记录的关键字均比另一部分的关键字小，则可分别对这两部分记录继续进行排序，以达到整个序列有序。\n",
    "\n",
    "6.1 算法描述\n",
    "\n",
    "快速排序使用分治法来把一个串（list）分为两个子串（sub-lists）。具体算法描述如下：\n",
    "步骤1：从数列中挑出一个元素，称为 “基准”（pivot ）；\n",
    "步骤2：重新排序数列，所有元素比基准值小的摆放在基准前面，所有元素比基准值大的摆在基准的后面（相同的数可以到任一边）。在这个分区退出之后，该基准就处于数列的中间位置。这个称为分区（partition）操作；\n",
    "步骤3：递归地（recursive）把小于基准值元素的子数列和大于基准值元素的子数列排序。\n",
    "\n",
    "时间复杂度：最好情况O(n * logn)——Partition函数每次恰好能均分序列，其递归树的深度就为.log2n.+1（.x.表示不大于x的最大整数），即仅需递归log2n次； 最坏情况O（n^2）,每次划分只能将序列分为一个元素与其他元素两部分，这时的快速排序退化为冒泡排序，如果用数画出来，得到的将会是一棵单斜树，也就是说所有所有的节点只有左（右）节点的树；平均时间复杂度O(n*logn)"
   ]
  },
  {
   "cell_type": "code",
   "execution_count": null,
   "metadata": {},
   "outputs": [],
   "source": [
    "def quick_sort(nums):\n",
    "    n = len(nums)\n",
    "\n",
    "    def quick(left, right):\n",
    "        if left >= right:#递归到左和右一样，直接退出\n",
    "            return nums\n",
    "        pivot = left\n",
    "        i = left\n",
    "        j = right\n",
    "        while i < j:\n",
    "            while i < j and nums[j] > nums[pivot]:#从右向左找第一个小于x的数\n",
    "                j -= 1\n",
    "            while i < j and nums[i] <= nums[pivot]:#从左向右找第一个大于x的数\n",
    "                i += 1\n",
    "            nums[i], nums[j] = nums[j], nums[i]#两者交换\n",
    "        nums[pivot], nums[j] = nums[j], nums[pivot]#把pivot放到停止的位置（之前小于pivot的数已经被挖走，此处是空的）\n",
    "        quick(left, j - 1)\n",
    "        quick(j + 1, right)\n",
    "        return nums\n",
    "\n",
    "    return quick(0, n - 1)"
   ]
  },
  {
   "cell_type": "markdown",
   "metadata": {},
   "source": [
    "堆排序\n",
    "\n",
    "最坏，最好，平均时间复杂度均为O(nlogn)，它也是不稳定排序，空间复杂度O(1)\n",
    "堆排序（Heapsort） 是指利用堆这种数据结构所设计的一种排序算法。堆积是一个近似完全二叉树的结构，并同时满足堆积的性质：即子结点的键值或索引总是小于（或者大于）它的父节点。\n",
    "\n",
    "7.1 算法描述\n",
    "步骤1：将初始待排序关键字序列(R1,R2….Rn)构建成大顶堆，此堆为初始的无序区；\n",
    "步骤2：将堆顶元素R[1]与最后一个元素R[n]交换，此时得到新的无序区(R1,R2,……Rn-1)和新的有序区(Rn),且满足R[1,2…n-1]<=R[n]；\n",
    "步骤3：由于交换后新的堆顶R[1]可能违反堆的性质，因此需要对当前无序区(R1,R2,……Rn-1)调整为新堆，然后再次将R[1]与无序区最后一个元素交换，得到新的无序区(R1,R2….Rn-2)和新的有序区(Rn-1,Rn)。不断重复此过程直到有序区的元素个数为n-1，则整个排序过程完成。\n",
    "\n",
    "a.将无需序列构建成一个堆，根据升序降序需求选择大顶堆或小顶堆;\n",
    "\n",
    "b.将堆顶元素与末尾元素交换，将最大元素\"沉\"到数组末端;\n",
    "\n",
    "c.重新调整结构，使其满足堆定义，然后继续交换堆顶元素与当前末尾元素，反复执行调整+交换步骤，直到整个序列有序。"
   ]
  },
  {
   "cell_type": "markdown",
   "metadata": {},
   "source": [
    "步骤一 构造初始堆。将给定无序序列构造成一个大顶堆（一般升序采用大顶堆，降序采用小顶堆)。\n",
    "\n",
    "https://www.cnblogs.com/chengxiao/p/6129630.html\n",
    "该数组从逻辑上讲就是一个堆结构，我们用简单的公式来描述一下堆的定义就是：\n",
    "\n",
    "大顶堆：arr[i] >= arr[2i+1] && arr[i] >= arr[2i+2]  \n",
    "\n",
    "小顶堆：arr[i] <= arr[2i+1] && arr[i] <= arr[2i+2]  \n",
    "\n",
    "步骤一 构造初始堆。将给定无序序列构造成一个大顶堆（一般升序采用大顶堆，降序采用小顶堆)。\n",
    "a.假设给定无序序列结构如下\n",
    "2.此时我们从最后一个非叶子结点开始（叶结点自然不用调整，第一个非叶子结点 arr.length/2-1=5/2-1=1，也就是下面的6结点），从左至右，从下至上进行调整。\n",
    "找到第二个非叶节点4，由于[4,9,8]中9元素最大，4和9交换。\n",
    "这时，交换导致了子根[4,5,6]结构混乱，继续调整，[4,5,6]中6最大，交换4和6。\n",
    "此时，我们就将一个无需序列构造成了一个大顶堆。\n",
    "\n",
    "步骤二 将堆顶元素与末尾元素进行交换，使末尾元素最大。然后继续调整堆，再将堆顶元素与末尾元素交换，得到第二大元素。如此反复进行交换、重建、交换。"
   ]
  },
  {
   "cell_type": "code",
   "execution_count": null,
   "metadata": {},
   "outputs": [],
   "source": [
    "class Solution:\n",
    "    def sortArray(self, nums: List[int]) -> List[int]:\n",
    "        def max_heapify(heap, root, heap_len):\n",
    "            #root是起点, heap_len代表着终点(不包括)\n",
    "            p = root\n",
    "            while p * 2 + 1 < heap_len:\n",
    "                #左子一定在heap里面\n",
    "                l, r = p * 2 + 1, p * 2 + 2\n",
    "                #右子不在heap中或者右子值比左子要小\n",
    "                if heap_len <= r or heap[r] < heap[l]:\n",
    "                    nex = l\n",
    "                else:\n",
    "                    nex = r\n",
    "                #换了值就要向下一层遍历\n",
    "                if heap[p] < heap[nex]:\n",
    "                    heap[p], heap[nex] = heap[nex], heap[p]\n",
    "                    p = nex\n",
    "                #没有必要遍历下去了,因为没有换值\n",
    "                else:\n",
    "                    break\n",
    "\n",
    "        def build_heap(heap):\n",
    "            #从最后一个非叶子节点开始进行调整，构建一个大顶堆\n",
    "            for i in range(len(heap)//2-1, -1, -1):\n",
    "                max_heapify(heap, i, len(heap))\n",
    "\n",
    "        def heap_sort(nums):\n",
    "            #从最后一个非叶子节点开始进行调整，构建一个大顶堆\n",
    "            build_heap(nums)\n",
    "            #交换最后一个和第一个，把剩下的构建成大顶堆\n",
    "            #之前构建大顶堆需要从非叶节点从后向前进行调整,是因为整个结构都不是大顶堆,现在只有根节点不满足条件,所以只要对根节点做max_heapify就行了\n",
    "            for i in range(len(nums) - 1, 0, -1):\n",
    "                nums[i], nums[0] = nums[0], nums[i]\n",
    "                max_heapify(nums, 0, i)\n",
    "\n",
    "        heap_sort(nums)\n",
    "        return nums"
   ]
  }
 ],
 "metadata": {
  "kernelspec": {
   "display_name": "Python 3",
   "language": "python",
   "name": "python3"
  },
  "language_info": {
   "codemirror_mode": {
    "name": "ipython",
    "version": 3
   },
   "file_extension": ".py",
   "mimetype": "text/x-python",
   "name": "python",
   "nbconvert_exporter": "python",
   "pygments_lexer": "ipython3",
   "version": "3.8.5"
  }
 },
 "nbformat": 4,
 "nbformat_minor": 4
}
